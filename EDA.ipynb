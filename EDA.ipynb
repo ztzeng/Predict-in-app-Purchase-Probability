{
 "cells": [
  {
   "cell_type": "code",
   "execution_count": 2,
   "metadata": {
    "ExecuteTime": {
     "end_time": "2019-02-17T05:19:38.428668Z",
     "start_time": "2019-02-17T05:19:37.268234Z"
    }
   },
   "outputs": [],
   "source": [
    "import pandas as pd\n",
    "import numpy as np\n",
    "import feather\n",
    "import datetime\n",
    "import matplotlib.pyplot as plt\n",
    "import seaborn as sns"
   ]
  },
  {
   "cell_type": "code",
   "execution_count": 41,
   "metadata": {
    "ExecuteTime": {
     "end_time": "2019-02-17T02:46:19.557012Z",
     "start_time": "2019-02-17T02:46:19.540769Z"
    }
   },
   "outputs": [],
   "source": [
    "import gc"
   ]
  },
  {
   "cell_type": "code",
   "execution_count": 2,
   "metadata": {
    "ExecuteTime": {
     "end_time": "2019-02-17T01:27:28.624700Z",
     "start_time": "2019-02-17T01:25:14.881414Z"
    }
   },
   "outputs": [],
   "source": [
    "event_file = './events.csv'\n",
    "event_types = {'event_value':np.float32}\n",
    "events = pd.read_csv(event_file, dtype=event_types).drop('app_id', axis=1)"
   ]
  },
  {
   "cell_type": "code",
   "execution_count": 3,
   "metadata": {
    "ExecuteTime": {
     "end_time": "2019-02-17T00:45:21.481472Z",
     "start_time": "2019-02-17T00:45:21.473651Z"
    }
   },
   "outputs": [
    {
     "name": "stdout",
     "output_type": "stream",
     "text": [
      "<class 'pandas.core.frame.DataFrame'>\n",
      "RangeIndex: 111946597 entries, 0 to 111946596\n",
      "Data columns (total 5 columns):\n",
      "session_id         int64\n",
      "event              object\n",
      "event_timestamp    int64\n",
      "event_value        float32\n",
      "user_id_hash       object\n",
      "dtypes: float32(1), int64(2), object(2)\n",
      "memory usage: 3.8+ GB\n"
     ]
    }
   ],
   "source": [
    "events.info()"
   ]
  },
  {
   "cell_type": "markdown",
   "metadata": {},
   "source": [
    "# Events"
   ]
  },
  {
   "cell_type": "code",
   "execution_count": 3,
   "metadata": {
    "ExecuteTime": {
     "end_time": "2019-02-17T01:37:04.298652Z",
     "start_time": "2019-02-17T01:27:28.626085Z"
    }
   },
   "outputs": [],
   "source": [
    "events['event_timestamp'] = pd.to_datetime(events['event_timestamp']/1e3, unit = 's')"
   ]
  },
  {
   "cell_type": "code",
   "execution_count": 4,
   "metadata": {
    "ExecuteTime": {
     "end_time": "2019-02-17T01:37:12.621563Z",
     "start_time": "2019-02-17T01:37:04.302065Z"
    }
   },
   "outputs": [],
   "source": [
    "events['weekofday'] = events['event_timestamp'].dt.weekday\n",
    "events['event_timestamp'] = events['event_timestamp'].dt.hour\n",
    "events['event_timestamp'] = events['event_timestamp'].astype(np.int8)\n",
    "events['weekofday'] = events['weekofdayr'].astype(np.int8)"
   ]
  },
  {
   "cell_type": "code",
   "execution_count": 13,
   "metadata": {
    "ExecuteTime": {
     "end_time": "2019-02-17T02:34:22.132483Z",
     "start_time": "2019-02-17T02:34:21.256787Z"
    }
   },
   "outputs": [
    {
     "data": {
      "text/plain": [
       "5009421"
      ]
     },
     "execution_count": 13,
     "metadata": {},
     "output_type": "execute_result"
    }
   ],
   "source": [
    "events['session_id'].nunique()"
   ]
  },
  {
   "cell_type": "code",
   "execution_count": 14,
   "metadata": {
    "ExecuteTime": {
     "end_time": "2019-02-17T02:34:34.134092Z",
     "start_time": "2019-02-17T02:34:33.555067Z"
    }
   },
   "outputs": [
    {
     "data": {
      "text/plain": [
       "57"
      ]
     },
     "execution_count": 14,
     "metadata": {},
     "output_type": "execute_result"
    }
   ],
   "source": [
    "events['event_value'].nunique()"
   ]
  },
  {
   "cell_type": "code",
   "execution_count": 15,
   "metadata": {
    "ExecuteTime": {
     "end_time": "2019-02-17T02:35:00.990860Z",
     "start_time": "2019-02-17T02:34:58.138849Z"
    }
   },
   "outputs": [
    {
     "data": {
      "text/plain": [
       "109"
      ]
     },
     "execution_count": 15,
     "metadata": {},
     "output_type": "execute_result"
    }
   ],
   "source": [
    "events['event'].nunique()"
   ]
  },
  {
   "cell_type": "code",
   "execution_count": 2,
   "metadata": {
    "ExecuteTime": {
     "end_time": "2019-02-17T03:05:52.601317Z",
     "start_time": "2019-02-17T03:03:31.135947Z"
    }
   },
   "outputs": [],
   "source": [
    "event_file = './events_updated.csv'\n",
    "event_types = {'event_value':np.float32, 'weekofday': np.int8, 'event_timestamp': np.int8}\n",
    "events = pd.read_csv(event_file, dtype=event_types).drop('Unnamed: 0', axis = 1)"
   ]
  },
  {
   "cell_type": "code",
   "execution_count": 11,
   "metadata": {
    "ExecuteTime": {
     "end_time": "2019-02-17T02:54:38.015897Z",
     "start_time": "2019-02-17T02:54:35.681011Z"
    }
   },
   "outputs": [],
   "source": [
    "events.drop('Unnamed: 0', axis = 1, inplace = True)"
   ]
  },
  {
   "cell_type": "code",
   "execution_count": 3,
   "metadata": {
    "ExecuteTime": {
     "end_time": "2019-02-17T03:34:11.721173Z",
     "start_time": "2019-02-17T03:34:11.703418Z"
    }
   },
   "outputs": [
    {
     "name": "stdout",
     "output_type": "stream",
     "text": [
      "<class 'pandas.core.frame.DataFrame'>\n",
      "RangeIndex: 111946597 entries, 0 to 111946596\n",
      "Data columns (total 6 columns):\n",
      "session_id         int64\n",
      "event              object\n",
      "event_timestamp    int8\n",
      "event_value        float32\n",
      "user_id_hash       object\n",
      "weekofday          int8\n",
      "dtypes: float32(1), int64(1), int8(2), object(2)\n",
      "memory usage: 3.1+ GB\n"
     ]
    }
   ],
   "source": [
    "events.info()"
   ]
  },
  {
   "cell_type": "code",
   "execution_count": 4,
   "metadata": {
    "ExecuteTime": {
     "end_time": "2019-02-17T03:34:15.841131Z",
     "start_time": "2019-02-17T03:34:15.811705Z"
    },
    "scrolled": true
   },
   "outputs": [
    {
     "data": {
      "text/html": [
       "<div>\n",
       "<style scoped>\n",
       "    .dataframe tbody tr th:only-of-type {\n",
       "        vertical-align: middle;\n",
       "    }\n",
       "\n",
       "    .dataframe tbody tr th {\n",
       "        vertical-align: top;\n",
       "    }\n",
       "\n",
       "    .dataframe thead th {\n",
       "        text-align: right;\n",
       "    }\n",
       "</style>\n",
       "<table border=\"1\" class=\"dataframe\">\n",
       "  <thead>\n",
       "    <tr style=\"text-align: right;\">\n",
       "      <th></th>\n",
       "      <th>session_id</th>\n",
       "      <th>event</th>\n",
       "      <th>event_timestamp</th>\n",
       "      <th>event_value</th>\n",
       "      <th>user_id_hash</th>\n",
       "      <th>weekofday</th>\n",
       "    </tr>\n",
       "  </thead>\n",
       "  <tbody>\n",
       "    <tr>\n",
       "      <th>0</th>\n",
       "      <td>5558845121177764917</td>\n",
       "      <td>45</td>\n",
       "      <td>17</td>\n",
       "      <td>0.0</td>\n",
       "      <td>9943447915df3a45fd6720a026af905b6da6b56a37701b...</td>\n",
       "      <td>2</td>\n",
       "    </tr>\n",
       "    <tr>\n",
       "      <th>1</th>\n",
       "      <td>5558845121177764917</td>\n",
       "      <td>45</td>\n",
       "      <td>17</td>\n",
       "      <td>0.0</td>\n",
       "      <td>9943447915df3a45fd6720a026af905b6da6b56a37701b...</td>\n",
       "      <td>2</td>\n",
       "    </tr>\n",
       "    <tr>\n",
       "      <th>2</th>\n",
       "      <td>7689508378645584666</td>\n",
       "      <td>.m5100869650219008</td>\n",
       "      <td>2</td>\n",
       "      <td>0.0</td>\n",
       "      <td>9943447915df3a45fd6720a026af905b6da6b56a37701b...</td>\n",
       "      <td>4</td>\n",
       "    </tr>\n",
       "    <tr>\n",
       "      <th>3</th>\n",
       "      <td>2201961907282901522</td>\n",
       "      <td>4</td>\n",
       "      <td>1</td>\n",
       "      <td>0.0</td>\n",
       "      <td>9943447915df3a45fd6720a026af905b6da6b56a37701b...</td>\n",
       "      <td>6</td>\n",
       "    </tr>\n",
       "    <tr>\n",
       "      <th>4</th>\n",
       "      <td>2201961907282901522</td>\n",
       "      <td>6</td>\n",
       "      <td>1</td>\n",
       "      <td>0.0</td>\n",
       "      <td>9943447915df3a45fd6720a026af905b6da6b56a37701b...</td>\n",
       "      <td>6</td>\n",
       "    </tr>\n",
       "  </tbody>\n",
       "</table>\n",
       "</div>"
      ],
      "text/plain": [
       "            session_id               event  event_timestamp  event_value  \\\n",
       "0  5558845121177764917                  45               17          0.0   \n",
       "1  5558845121177764917                  45               17          0.0   \n",
       "2  7689508378645584666  .m5100869650219008                2          0.0   \n",
       "3  2201961907282901522                   4                1          0.0   \n",
       "4  2201961907282901522                   6                1          0.0   \n",
       "\n",
       "                                        user_id_hash  weekofday  \n",
       "0  9943447915df3a45fd6720a026af905b6da6b56a37701b...          2  \n",
       "1  9943447915df3a45fd6720a026af905b6da6b56a37701b...          2  \n",
       "2  9943447915df3a45fd6720a026af905b6da6b56a37701b...          4  \n",
       "3  9943447915df3a45fd6720a026af905b6da6b56a37701b...          6  \n",
       "4  9943447915df3a45fd6720a026af905b6da6b56a37701b...          6  "
      ]
     },
     "execution_count": 4,
     "metadata": {},
     "output_type": "execute_result"
    }
   ],
   "source": [
    "events.head()"
   ]
  },
  {
   "cell_type": "code",
   "execution_count": 21,
   "metadata": {
    "ExecuteTime": {
     "end_time": "2019-02-17T03:40:59.630662Z",
     "start_time": "2019-02-17T03:40:58.841701Z"
    }
   },
   "outputs": [],
   "source": [
    "# plots\n",
    "weekday = events['weekofday'].value_counts().reset_index()\n",
    "# plt.bar(events['weekofday'], events.groupby('weekofday').count().reset_index())\n",
    "# plt.xlabel('weekofday')\n",
    "# plt.ylabel('count')\n",
    "# plt.title('Weekofday count')"
   ]
  },
  {
   "cell_type": "code",
   "execution_count": 26,
   "metadata": {
    "ExecuteTime": {
     "end_time": "2019-02-17T03:42:20.845571Z",
     "start_time": "2019-02-17T03:42:20.692182Z"
    }
   },
   "outputs": [
    {
     "data": {
      "text/plain": [
       "Text(0.5,1,'Weekofday count')"
      ]
     },
     "execution_count": 26,
     "metadata": {},
     "output_type": "execute_result"
    },
    {
     "data": {
      "image/png": "[encoded data removed]",
      "text/plain": [
       "<matplotlib.figure.Figure at 0x7f38f8cdee80>"
      ]
     },
     "metadata": {},
     "output_type": "display_data"
    }
   ],
   "source": [
    "plt.bar(weekday['index'], weekday['weekofday'])\n",
    "plt.ylim(100000, 20000000)\n",
    "plt.xlabel('weekofday')\n",
    "plt.ylabel('count')\n",
    "plt.title('Weekofday count')"
   ]
  },
  {
   "cell_type": "markdown",
   "metadata": {},
   "source": [
    "From the above we can see that the total events are uniformly distributed accross alll the days of the week"
   ]
  },
  {
   "cell_type": "code",
   "execution_count": 30,
   "metadata": {
    "ExecuteTime": {
     "end_time": "2019-02-17T04:03:37.569156Z",
     "start_time": "2019-02-17T04:03:30.530364Z"
    }
   },
   "outputs": [],
   "source": [
    "weekday = events[events['event']=='8'][['event_timestamp', 'weekofday']]"
   ]
  },
  {
   "cell_type": "code",
   "execution_count": 32,
   "metadata": {
    "ExecuteTime": {
     "end_time": "2019-02-17T04:05:15.201402Z",
     "start_time": "2019-02-17T04:05:15.178448Z"
    }
   },
   "outputs": [],
   "source": [
    "purchase_hour = weekday['event_timestamp'].value_counts().reset_index()\n",
    "weekday = weekday['weekofday'].value_counts().reset_index()\n"
   ]
  },
  {
   "cell_type": "code",
   "execution_count": 35,
   "metadata": {
    "ExecuteTime": {
     "end_time": "2019-02-17T04:08:25.441459Z",
     "start_time": "2019-02-17T04:08:25.251364Z"
    }
   },
   "outputs": [
    {
     "data": {
      "text/plain": [
       "Text(0.5,1,'count of purchases by hour')"
      ]
     },
     "execution_count": 35,
     "metadata": {},
     "output_type": "execute_result"
    },
    {
     "data": {
      "image/png": "[encoded data removed]",
      "text/plain": [
       "<matplotlib.figure.Figure at 0x7f38fbba4978>"
      ]
     },
     "metadata": {},
     "output_type": "display_data"
    }
   ],
   "source": [
    "# purchase on weekodfday\n",
    "plt.bar(purchase_hour['index'], purchase_hour['event_timestamp'])\n",
    "plt.xlabel('hour')\n",
    "plt.ylabel('count')\n",
    "plt.title('count of purchases by hour')"
   ]
  },
  {
   "cell_type": "code",
   "execution_count": 34,
   "metadata": {
    "ExecuteTime": {
     "end_time": "2019-02-17T04:08:22.431831Z",
     "start_time": "2019-02-17T04:08:22.275033Z"
    }
   },
   "outputs": [
    {
     "data": {
      "text/plain": [
       "Text(0.5,1,'count of purchases by weekofday')"
      ]
     },
     "execution_count": 34,
     "metadata": {},
     "output_type": "execute_result"
    },
    {
     "data": {
      "image/png": "[encoded data removed]",
      "text/plain": [
       "<matplotlib.figure.Figure at 0x7f38fbda54a8>"
      ]
     },
     "metadata": {},
     "output_type": "display_data"
    }
   ],
   "source": [
    "#puchase on hour of day\n",
    "plt.bar(weekday['index'], weekday['weekofday'])\n",
    "plt.xlabel('weekofday')\n",
    "plt.ylabel('count')\n",
    "plt.title('count of purchases by weekofday')"
   ]
  },
  {
   "cell_type": "markdown",
   "metadata": {},
   "source": [
    "Looks like there is more activity of purchase during the early and the late hours of the day. The purchase counts are lower during 600 to 1500 hour. However, the amount of purchase on different week of days remain almost similar."
   ]
  },
  {
   "cell_type": "markdown",
   "metadata": {},
   "source": [
    "## Session"
   ]
  },
  {
   "cell_type": "code",
   "execution_count": 5,
   "metadata": {
    "ExecuteTime": {
     "end_time": "2019-02-17T05:11:24.682644Z",
     "start_time": "2019-02-17T05:10:59.381359Z"
    }
   },
   "outputs": [],
   "source": [
    "session = './sessions.csv'\n",
    "session_types = {'event_value':np.float32}\n",
    "sessions = pd.read_csv(session, dtype=session_types).drop(['app_id', 'is_mau','is_wau', \n",
    "                                                          'user_id_hash', 'latitude', \n",
    "                                                          'longitude'], axis=1)"
   ]
  },
  {
   "cell_type": "code",
   "execution_count": 7,
   "metadata": {
    "ExecuteTime": {
     "end_time": "2019-02-17T05:12:17.358358Z",
     "start_time": "2019-02-17T05:12:17.318977Z"
    }
   },
   "outputs": [
    {
     "data": {
      "text/html": [
       "<div>\n",
       "<style scoped>\n",
       "    .dataframe tbody tr th:only-of-type {\n",
       "        vertical-align: middle;\n",
       "    }\n",
       "\n",
       "    .dataframe tbody tr th {\n",
       "        vertical-align: top;\n",
       "    }\n",
       "\n",
       "    .dataframe thead th {\n",
       "        text-align: right;\n",
       "    }\n",
       "</style>\n",
       "<table border=\"1\" class=\"dataframe\">\n",
       "  <thead>\n",
       "    <tr style=\"text-align: right;\">\n",
       "      <th></th>\n",
       "      <th>session_id</th>\n",
       "      <th>start_timestamp</th>\n",
       "      <th>timezone</th>\n",
       "      <th>timezone_offset</th>\n",
       "      <th>previous_sessions_duration</th>\n",
       "      <th>user_created_timestamp</th>\n",
       "      <th>is_user_first_session</th>\n",
       "      <th>is_session</th>\n",
       "      <th>is_developer</th>\n",
       "      <th>country</th>\n",
       "      <th>region</th>\n",
       "      <th>city</th>\n",
       "      <th>locale</th>\n",
       "      <th>os_name</th>\n",
       "      <th>session_index</th>\n",
       "      <th>device_id</th>\n",
       "    </tr>\n",
       "  </thead>\n",
       "  <tbody>\n",
       "    <tr>\n",
       "      <th>0</th>\n",
       "      <td>5558845121177764917</td>\n",
       "      <td>1542215364580</td>\n",
       "      <td>Asia/Manila</td>\n",
       "      <td>28800000.0</td>\n",
       "      <td>25837591</td>\n",
       "      <td>1538874289458</td>\n",
       "      <td>False</td>\n",
       "      <td>True</td>\n",
       "      <td>False</td>\n",
       "      <td>PH</td>\n",
       "      <td>00</td>\n",
       "      <td>makati</td>\n",
       "      <td>en_GB</td>\n",
       "      <td>Android OS</td>\n",
       "      <td>30</td>\n",
       "      <td>546a3d98-d540-4e72-ad82-9ebd64e0839b</td>\n",
       "    </tr>\n",
       "    <tr>\n",
       "      <th>1</th>\n",
       "      <td>2201961907282901522</td>\n",
       "      <td>1543712977293</td>\n",
       "      <td>Asia/Manila</td>\n",
       "      <td>28800000.0</td>\n",
       "      <td>35050130</td>\n",
       "      <td>1538874289458</td>\n",
       "      <td>False</td>\n",
       "      <td>True</td>\n",
       "      <td>False</td>\n",
       "      <td>PH</td>\n",
       "      <td>00</td>\n",
       "      <td>quezon city</td>\n",
       "      <td>en_GB</td>\n",
       "      <td>Android OS</td>\n",
       "      <td>47</td>\n",
       "      <td>546a3d98-d540-4e72-ad82-9ebd64e0839b</td>\n",
       "    </tr>\n",
       "    <tr>\n",
       "      <th>2</th>\n",
       "      <td>18781111175537580</td>\n",
       "      <td>1539215568666</td>\n",
       "      <td>Asia/Manila</td>\n",
       "      <td>28800000.0</td>\n",
       "      <td>11343848</td>\n",
       "      <td>1538874289458</td>\n",
       "      <td>False</td>\n",
       "      <td>True</td>\n",
       "      <td>False</td>\n",
       "      <td>PH</td>\n",
       "      <td>00</td>\n",
       "      <td>makati</td>\n",
       "      <td>en_GB</td>\n",
       "      <td>Android OS</td>\n",
       "      <td>10</td>\n",
       "      <td>546a3d98-d540-4e72-ad82-9ebd64e0839b</td>\n",
       "    </tr>\n",
       "    <tr>\n",
       "      <th>3</th>\n",
       "      <td>1477540082628742048</td>\n",
       "      <td>1540120743010</td>\n",
       "      <td>Asia/Manila</td>\n",
       "      <td>28800000.0</td>\n",
       "      <td>13499724</td>\n",
       "      <td>1538874289458</td>\n",
       "      <td>False</td>\n",
       "      <td>True</td>\n",
       "      <td>False</td>\n",
       "      <td>PH</td>\n",
       "      <td>11</td>\n",
       "      <td>davao city</td>\n",
       "      <td>en_GB</td>\n",
       "      <td>Android OS</td>\n",
       "      <td>13</td>\n",
       "      <td>546a3d98-d540-4e72-ad82-9ebd64e0839b</td>\n",
       "    </tr>\n",
       "    <tr>\n",
       "      <th>4</th>\n",
       "      <td>8184875317380844086</td>\n",
       "      <td>1542671625528</td>\n",
       "      <td>Asia/Manila</td>\n",
       "      <td>28800000.0</td>\n",
       "      <td>32788010</td>\n",
       "      <td>1538874289458</td>\n",
       "      <td>False</td>\n",
       "      <td>True</td>\n",
       "      <td>False</td>\n",
       "      <td>PH</td>\n",
       "      <td>00</td>\n",
       "      <td>makati</td>\n",
       "      <td>en_GB</td>\n",
       "      <td>Android OS</td>\n",
       "      <td>41</td>\n",
       "      <td>546a3d98-d540-4e72-ad82-9ebd64e0839b</td>\n",
       "    </tr>\n",
       "  </tbody>\n",
       "</table>\n",
       "</div>"
      ],
      "text/plain": [
       "            session_id  start_timestamp     timezone  timezone_offset  \\\n",
       "0  5558845121177764917    1542215364580  Asia/Manila       28800000.0   \n",
       "1  2201961907282901522    1543712977293  Asia/Manila       28800000.0   \n",
       "2    18781111175537580    1539215568666  Asia/Manila       28800000.0   \n",
       "3  1477540082628742048    1540120743010  Asia/Manila       28800000.0   \n",
       "4  8184875317380844086    1542671625528  Asia/Manila       28800000.0   \n",
       "\n",
       "   previous_sessions_duration  user_created_timestamp  is_user_first_session  \\\n",
       "0                    25837591           1538874289458                  False   \n",
       "1                    35050130           1538874289458                  False   \n",
       "2                    11343848           1538874289458                  False   \n",
       "3                    13499724           1538874289458                  False   \n",
       "4                    32788010           1538874289458                  False   \n",
       "\n",
       "   is_session  is_developer country region         city locale     os_name  \\\n",
       "0        True         False      PH     00       makati  en_GB  Android OS   \n",
       "1        True         False      PH     00  quezon city  en_GB  Android OS   \n",
       "2        True         False      PH     00       makati  en_GB  Android OS   \n",
       "3        True         False      PH     11   davao city  en_GB  Android OS   \n",
       "4        True         False      PH     00       makati  en_GB  Android OS   \n",
       "\n",
       "   session_index                             device_id  \n",
       "0             30  546a3d98-d540-4e72-ad82-9ebd64e0839b  \n",
       "1             47  546a3d98-d540-4e72-ad82-9ebd64e0839b  \n",
       "2             10  546a3d98-d540-4e72-ad82-9ebd64e0839b  \n",
       "3             13  546a3d98-d540-4e72-ad82-9ebd64e0839b  \n",
       "4             41  546a3d98-d540-4e72-ad82-9ebd64e0839b  "
      ]
     },
     "execution_count": 7,
     "metadata": {},
     "output_type": "execute_result"
    }
   ],
   "source": [
    "sessions.head()"
   ]
  },
  {
   "cell_type": "code",
   "execution_count": 5,
   "metadata": {
    "ExecuteTime": {
     "end_time": "2019-02-17T04:42:41.266614Z",
     "start_time": "2019-02-17T04:42:41.239382Z"
    }
   },
   "outputs": [
    {
     "name": "stdout",
     "output_type": "stream",
     "text": [
      "<class 'pandas.core.frame.DataFrame'>\n",
      "RangeIndex: 6239836 entries, 0 to 6239835\n",
      "Data columns (total 22 columns):\n",
      "app_id                        int64\n",
      "session_id                    int64\n",
      "start_timestamp               int64\n",
      "timezone                      object\n",
      "timezone_offset               float64\n",
      "previous_sessions_duration    int64\n",
      "user_created_timestamp        int64\n",
      "is_user_first_session         bool\n",
      "is_session                    bool\n",
      "is_developer                  bool\n",
      "is_wau                        bool\n",
      "is_mau                        bool\n",
      "country                       object\n",
      "region                        object\n",
      "city                          object\n",
      "latitude                      float64\n",
      "longitude                     float64\n",
      "locale                        object\n",
      "os_name                       object\n",
      "session_index                 int64\n",
      "device_id                     object\n",
      "user_id_hash                  object\n",
      "dtypes: bool(5), float64(3), int64(6), object(8)\n",
      "memory usage: 839.1+ MB\n"
     ]
    }
   ],
   "source": [
    "session.info()"
   ]
  },
  {
   "cell_type": "code",
   "execution_count": 6,
   "metadata": {
    "ExecuteTime": {
     "end_time": "2019-02-17T04:45:26.961564Z",
     "start_time": "2019-02-17T04:45:26.541131Z"
    }
   },
   "outputs": [
    {
     "data": {
      "text/plain": [
       "array(['Asia/Manila', 'Europe/London', 'America/New_York', 'Asia/Kolkata',\n",
       "       'Australia/Sydney', 'America/Phoenix', 'America/Los_Angeles',\n",
       "       'Europe/Lisbon', 'America/Chicago', 'Asia/Katmandu',\n",
       "       'America/Port_of_Spain', 'Europe/Oslo', 'Europe/Warsaw',\n",
       "       'America/Denver', 'Asia/Kuala_Lumpur', 'Asia/Karachi',\n",
       "       'Asia/Bangkok', 'America/Detroit', 'Europe/Paris', 'Asia/Jakarta',\n",
       "       'Australia/Brisbane', 'Asia/Calcutta', 'Asia/Makassar',\n",
       "       'Europe/Stockholm', 'America/Jamaica', 'Europe/Berlin',\n",
       "       'Australia/Hobart', 'Pacific/Honolulu',\n",
       "       'America/Indiana/Indianapolis', 'America/Toronto', 'Europe/Tirane',\n",
       "       'Europe/Rome', 'Africa/Nairobi', 'US/Pacific',\n",
       "       'America/Argentina/Cordoba', 'Europe/Helsinki', 'Europe/Belgrade',\n",
       "       'Asia/Dhaka', 'Asia/Ulaanbaatar', 'Asia/Colombo', 'Africa/Harare',\n",
       "       'Europe/Madrid', 'Indian/Mauritius', 'Atlantic/Reykjavik',\n",
       "       'America/Mexico_City', 'Africa/Johannesburg', 'America/Santiago',\n",
       "       'America/Caracas', 'America/Winnipeg', 'America/Halifax',\n",
       "       'Asia/Almaty', 'Asia/Baku', 'Africa/Windhoek', 'Europe/Istanbul',\n",
       "       'America/St_Johns', 'Europe/Bratislava', 'Asia/Ho_Chi_Minh',\n",
       "       'Asia/Tehran', 'Pacific/Midway', 'Europe/Bucharest',\n",
       "       'Asia/Phnom_Penh', 'Europe/Dublin', 'America/Buenos_Aires',\n",
       "       'America/Sao_Paulo', 'Asia/Hong_Kong', 'Europe/Copenhagen',\n",
       "       'America/Barbados', 'Asia/Jerusalem', 'America/El_Salvador',\n",
       "       'America/Puerto_Rico', 'Africa/Cairo', 'America/Edmonton',\n",
       "       'America/Bogota', 'America/Boise', 'Asia/Singapore',\n",
       "       'America/Belize', 'Africa/Lusaka', 'Australia/Perth',\n",
       "       'Europe/Amsterdam', 'Europe/Sofia', 'Pacific/Guam',\n",
       "       'Africa/Addis_Ababa', 'Australia/Adelaide', 'Pacific/Auckland',\n",
       "       'Africa/Tunis', 'Asia/Kathmandu', 'America/Bahia_Banderas',\n",
       "       'Europe/Minsk', 'America/Montreal', 'Europe/Sarajevo',\n",
       "       'Asia/Dubai', 'Europe/Ljubljana', 'Europe/Vienna',\n",
       "       'America/Argentina/Buenos_Aires', 'Asia/Brunei', 'Africa/Lagos',\n",
       "       'Europe/Luxembourg', 'GMT', 'America/Belem', 'America/Vancouver',\n",
       "       'Africa/Accra', 'US/Central', 'Europe/Zagreb', 'Europe/Athens',\n",
       "       'Europe/Moscow', 'Europe/Tallinn', 'Australia/Melbourne',\n",
       "       'America/Anchorage', 'Europe/Budapest', 'US/Mountain',\n",
       "       'Europe/Zurich', 'Etc/GMT-3', 'Asia/Amman', 'America/Dawson_Creek',\n",
       "       'Asia/Tokyo', 'Asia/Saigon', 'Asia/Shanghai', 'Europe/Brussels',\n",
       "       'Asia/Irkutsk', 'Asia/Beirut', 'America/Ojinaga', 'Asia/Jayapura',\n",
       "       nan, 'America/Bahia', 'Europe/Riga', 'Europe/Andorra',\n",
       "       'Europe/Kiev', 'Pacific/Majuro', 'Asia/Nicosia', 'Asia/Rangoon',\n",
       "       'Europe/Vilnius', 'Australia/Darwin', 'Asia/Riyadh',\n",
       "       'Europe/Skopje', 'Atlantic/Madeira', 'Africa/Algiers',\n",
       "       'America/Monterrey', 'Asia/Baghdad', 'America/Merida',\n",
       "       'Pacific/Fiji', 'Asia/Tbilisi', 'Africa/Ceuta', 'Asia/Bishkek',\n",
       "       'America/Nassau', 'America/Indianapolis', 'America/Regina',\n",
       "       'America/Costa_Rica', 'America/Araguaina', 'Asia/Novosibirsk',\n",
       "       'Asia/Bahrain', 'America/Lima', 'Africa/Dar_es_Salaam',\n",
       "       'Etc/GMT+4', 'America/Panama', 'America/Recife',\n",
       "       'America/Resolute', 'America/Santo_Domingo', 'America/Manaus',\n",
       "       'America/Juneau', 'Europe/Monaco', 'Europe/Prague',\n",
       "       'America/Tijuana', 'America/Noronha', 'Asia/Kabul',\n",
       "       'America/Chihuahua', 'America/Tegucigalpa', 'Africa/Casablanca',\n",
       "       'Asia/Seoul', 'Europe/Chisinau', 'Africa/Freetown', 'Indian/Mahe',\n",
       "       'America/Creston', 'America/Moncton', 'Etc/GMT-2',\n",
       "       'Asia/Novokuznetsk', 'America/Hermosillo', 'Libya',\n",
       "       'Asia/Srednekolymsk', 'America/Fortaleza', 'Asia/Krasnoyarsk',\n",
       "       'Asia/Kuwait', 'Africa/Blantyre', 'Asia/Qatar', 'Pacific/Saipan',\n",
       "       'America/Guayaquil', 'Africa/Niamey', 'Asia/Kuching',\n",
       "       'America/Asuncion', 'America/Montevideo', 'Europe/Samara',\n",
       "       'Australia/Lord_Howe', 'America/Aruba', 'Europe/Malta',\n",
       "       'America/Atikokan', 'Africa/Luanda', 'Asia/Taipei',\n",
       "       'America/Anguilla', 'America/Cayman', 'America/Curacao',\n",
       "       'Singapore', 'America/Antigua', 'Africa/Gaborone', 'Africa/Douala',\n",
       "       'Asia/Yangon', 'America/La_Paz', 'Africa/Kampala', 'Poland',\n",
       "       'America/Marigot', 'Asia/Dushanbe', 'America/Kentucky/Monticello',\n",
       "       'Africa/Dakar', 'Asia/Choibalsan', 'Africa/Abidjan',\n",
       "       'America/Godthab', 'Asia/Tashkent', 'America/Cuiaba',\n",
       "       'Africa/Porto-Novo', 'Asia/Qyzylorda', 'Asia/Muscat',\n",
       "       'Europe/Guernsey', 'Pacific/Pago_Pago', 'US/Eastern',\n",
       "       'America/Port-au-Prince', 'Asia/Yekaterinburg', 'Atlantic/Azores',\n",
       "       'Africa/Mbabane', 'America/Guadeloupe', 'Asia/Vientiane',\n",
       "       'Africa/Brazzaville', 'Etc/GMT-1', 'Africa/Tripoli',\n",
       "       'Africa/Kigali', 'America/Paramaribo', 'Africa/Maputo',\n",
       "       'America/Thunder_Bay', 'America/Dawson', 'America/Glace_Bay',\n",
       "       'Africa/Libreville', 'America/Guatemala', 'Pacific/Tongatapu',\n",
       "       'Asia/Samarkand', 'Asia/Damascus', 'Atlantic/Bermuda',\n",
       "       'America/Indiana/Vincennes', 'Asia/Ashgabat', 'America/Miquelon',\n",
       "       'America/Managua', 'America/Punta_Arenas', 'Indian/Maldives',\n",
       "       'America/Cancun', 'Australia/Broken_Hill',\n",
       "       'America/North_Dakota/Beulah', 'Asia/Hebron',\n",
       "       'America/Kentucky/Louisville', 'Asia/Kamchatka',\n",
       "       'America/St_Lucia', 'Asia/Yerevan', 'Pacific/Tarawa', 'Etc/GMT+7',\n",
       "       'Africa/Monrovia', 'Atlantic/Canary', 'America/Campo_Grande',\n",
       "       'Asia/Vladivostok', 'America/Tortola', 'America/Mazatlan',\n",
       "       'America/Argentina/Tucuman', 'Africa/Bamako', 'America/Guyana',\n",
       "       'Asia/Hovd', 'Africa/Lome', 'Europe/Podgorica', 'America/Cayenne',\n",
       "       'America/Havana', 'Asia/Magadan', 'Pacific/Port_Moresby',\n",
       "       'Asia/Macau', 'Atlantic/South_Georgia', 'GMT+02:00', 'Asia/Dacca',\n",
       "       'Pacific/Tahiti', 'America/Cordoba', 'Africa/Khartoum',\n",
       "       'Asia/Aden', 'Europe/Belfast', 'America/Grand_Turk', 'Asia/Oral',\n",
       "       'Europe/Kaliningrad', 'Africa/Ouagadougou',\n",
       "       'America/Swift_Current', 'America/Rankin_Inlet',\n",
       "       'Antarctica/DumontDUrville', 'Indian/Antananarivo',\n",
       "       'Africa/Djibouti', 'Europe/Gibraltar', 'America/Martinique',\n",
       "       'Africa/Banjul', 'Europe/Isle_of_Man', 'America/Lower_Princes',\n",
       "       'America/Dominica', 'America/St_Thomas', 'Australia/Canberra',\n",
       "       'Pacific/Nauru', 'Australia/Victoria', 'Africa/Lubumbashi',\n",
       "       'Indian/Reunion', 'America/Sitka', 'Antarctica/Davis',\n",
       "       'Australia/ACT', 'Asia/Omsk', 'Pacific/Noumea',\n",
       "       'America/Porto_Velho', 'Africa/Maseru', 'America/St_Vincent',\n",
       "       'Africa/Mogadishu', 'Pacific/Apia', 'America/St_Kitts',\n",
       "       'Africa/Bissau', 'Pacific/Efate', 'Asia/Thimphu', 'Asia/Famagusta',\n",
       "       'ROK', 'America/Argentina/Mendoza', 'America/Louisville',\n",
       "       'America/Indiana/Marengo', 'America/Matamoros',\n",
       "       'Antarctica/McMurdo', 'Africa/Bujumbura', 'Asia/Yakutsk',\n",
       "       'Asia/Hanoi', 'Pacific/Chatham', 'Etc/GMT+5', 'Europe/Zaporozhye',\n",
       "       'Europe/Saratov', 'America/Shiprock', 'Pacific/Palau',\n",
       "       'America/Indiana/Knox', 'Africa/Bangui', 'America/Yellowknife',\n",
       "       'America/Menominee', 'Europe/Vaduz', 'America/Boa_Vista',\n",
       "       'America/Grenada', 'America/Nipigon', 'Europe/Uzhgorod',\n",
       "       'America/North_Dakota/Center', 'Asia/Dili', 'Etc/GMT+11',\n",
       "       'Asia/Tomsk', 'Antarctica/Macquarie', 'America/Cambridge_Bay',\n",
       "       'America/Maceio', 'Atlantic/Cape_Verde', 'Indian/Mayotte',\n",
       "       'Brazil/East', 'America/Kralendijk', 'America/Santa_Isabel',\n",
       "       'America/Indiana/Vevay', 'America/Indiana/Petersburg',\n",
       "       'Africa/Malabo', 'Africa/Conakry', 'Asia/Chita', 'Asia/Pontianak',\n",
       "       'Pacific/Pitcairn', 'America/Adak', 'America/Indiana/Tell_City',\n",
       "       'Europe/Jersey', 'America/North_Dakota/New_Salem',\n",
       "       'America/Rio_Branco', 'America/Argentina/Salta', 'GMT+08:00',\n",
       "       'Asia/Aqtau', 'America/Whitehorse', 'Pacific/Galapagos',\n",
       "       'Europe/Simferopol', 'America/Pangnirtung', 'America/Nome',\n",
       "       'US/Arizona', 'Africa/Nouakchott', 'Australia/Eucla',\n",
       "       'US/Michigan', 'Turkey', 'Etc/GMT+3', 'Europe/Vatican',\n",
       "       'Indian/Chagos', 'Asia/Aqtobe', 'America/Argentina/Catamarca',\n",
       "       'Europe/Volgograd', 'Australia/Lindeman', 'Europe/Kirov',\n",
       "       'America/Eirunepe', 'America/Goose_Bay', 'Indian/Christmas',\n",
       "       'Asia/Gaza', 'Africa/Kinshasa', 'Atlantic/Faroe', 'Asia/Istanbul',\n",
       "       'America/Blanc-Sablon', 'Zulu', 'Pacific/Guadalcanal',\n",
       "       'Pacific/Yap', 'Asia/Atyrau', 'Chile/Continental',\n",
       "       'Pacific/Rarotonga', 'Antarctica/Casey', 'Pacific/Easter',\n",
       "       'Pacific/Kiritimati', 'Jamaica', 'America/Indiana/Winamac',\n",
       "       'Antarctica/Mawson', 'Etc/GMT+6', 'Indian/Comoro',\n",
       "       'Pacific/Norfolk', 'Etc/GMT+8', 'Antarctica/Syowa',\n",
       "       'America/Argentina/Rio_Gallegos', 'Asia/Barnaul', 'Etc/GMT+12',\n",
       "       'Asia/Sakhalin', 'Pacific/Pohnpei', 'Arctic/Longyearbyen', 'WET',\n",
       "       'America/St_Barthelemy', 'Asia/Chongqing', 'Pacific/Fakaofo',\n",
       "       'America/Iqaluit', 'Australia/Yancowinna', 'Africa/El_Aaiun',\n",
       "       'Africa/Juba', 'Canada/Eastern', 'America/Argentina/Jujuy',\n",
       "       'America/Argentina/San_Juan', 'Antarctica/Vostok',\n",
       "       'Pacific/Wallis', 'Pacific/Ponape', 'US/Indiana-Starke',\n",
       "       'America/Coral_Harbour', 'America/Santarem', 'Pacific/Niue',\n",
       "       'Australia/Currie', 'America/Argentina/San_Luis', 'Etc/GMT+2',\n",
       "       'Antarctica/Rothera', 'Canada/Saskatchewan',\n",
       "       'America/Argentina/Ushuaia', 'America/Montserrat',\n",
       "       'Pacific/Funafuti', 'Atlantic/Stanley', 'Europe/Nicosia',\n",
       "       'Etc/GMT-4', 'Pacific/Marquesas', 'GMT-06:00', 'Canada/Mountain',\n",
       "       'America/Argentina/La_Rioja', 'GMT+05:30', 'Asia/Macao',\n",
       "       'Africa/Asmara'], dtype=object)"
      ]
     },
     "execution_count": 6,
     "metadata": {},
     "output_type": "execute_result"
    }
   ],
   "source": [
    "session.timezone.unique()"
   ]
  },
  {
   "cell_type": "code",
   "execution_count": 7,
   "metadata": {
    "ExecuteTime": {
     "end_time": "2019-02-17T04:45:42.972854Z",
     "start_time": "2019-02-17T04:45:42.543047Z"
    }
   },
   "outputs": [
    {
     "data": {
      "text/plain": [
       "455"
      ]
     },
     "execution_count": 7,
     "metadata": {},
     "output_type": "execute_result"
    }
   ],
   "source": [
    "session.timezone.nunique()"
   ]
  },
  {
   "cell_type": "code",
   "execution_count": 8,
   "metadata": {
    "ExecuteTime": {
     "end_time": "2019-02-17T04:46:27.041854Z",
     "start_time": "2019-02-17T04:46:27.025639Z"
    }
   },
   "outputs": [
    {
     "data": {
      "text/plain": [
       "Index(['app_id', 'session_id', 'start_timestamp', 'timezone',\n",
       "       'timezone_offset', 'previous_sessions_duration',\n",
       "       'user_created_timestamp', 'is_user_first_session', 'is_session',\n",
       "       'is_developer', 'is_wau', 'is_mau', 'country', 'region', 'city',\n",
       "       'latitude', 'longitude', 'locale', 'os_name', 'session_index',\n",
       "       'device_id', 'user_id_hash'],\n",
       "      dtype='object')"
      ]
     },
     "execution_count": 8,
     "metadata": {},
     "output_type": "execute_result"
    }
   ],
   "source": [
    "session.columns"
   ]
  },
  {
   "cell_type": "code",
   "execution_count": 4,
   "metadata": {
    "ExecuteTime": {
     "end_time": "2019-02-17T05:22:56.024509Z",
     "start_time": "2019-02-17T05:20:19.812262Z"
    }
   },
   "outputs": [],
   "source": [
    "event_file = './events_updated.csv'\n",
    "event_types = {'event_value':np.float32, 'weekofday': np.int8, 'event_timestamp': np.int8}\n",
    "events = pd.read_csv(event_file, dtype=event_types).drop(['Unnamed: 0', 'user_id_hash'], axis = 1)"
   ]
  },
  {
   "cell_type": "code",
   "execution_count": 10,
   "metadata": {
    "ExecuteTime": {
     "end_time": "2019-02-17T04:49:52.575436Z",
     "start_time": "2019-02-17T04:49:52.549886Z"
    }
   },
   "outputs": [
    {
     "name": "stdout",
     "output_type": "stream",
     "text": [
      "<class 'pandas.core.frame.DataFrame'>\n",
      "RangeIndex: 111946597 entries, 0 to 111946596\n",
      "Data columns (total 5 columns):\n",
      "session_id         int64\n",
      "event              object\n",
      "event_timestamp    int8\n",
      "event_value        float32\n",
      "weekofday          int8\n",
      "dtypes: float32(1), int64(1), int8(2), object(1)\n",
      "memory usage: 2.3+ GB\n"
     ]
    }
   ],
   "source": [
    "events.info()"
   ]
  },
  {
   "cell_type": "code",
   "execution_count": 21,
   "metadata": {
    "ExecuteTime": {
     "end_time": "2019-02-17T04:59:48.446555Z",
     "start_time": "2019-02-17T04:59:30.858117Z"
    }
   },
   "outputs": [
    {
     "data": {
      "text/plain": [
       "<matplotlib.axes._subplots.AxesSubplot at 0x7fd9dbbf8f98>"
      ]
     },
     "execution_count": 21,
     "metadata": {},
     "output_type": "execute_result"
    },
    {
     "data": {
      "image/png": "[encoded data removed]",
      "text/plain": [
       "<matplotlib.figure.Figure at 0x7fd9dbc66240>"
      ]
     },
     "metadata": {},
     "output_type": "display_data"
    }
   ],
   "source": [
    "sns.heatmap(events.corr(), \n",
    "        xticklabels=events.corr().columns,\n",
    "        yticklabels=events.corr().columns,\n",
    "           cmap=\"Blues\",\n",
    "           fmt='d')"
   ]
  },
  {
   "cell_type": "code",
   "execution_count": 20,
   "metadata": {
    "ExecuteTime": {
     "end_time": "2019-02-17T05:16:44.327972Z",
     "start_time": "2019-02-17T05:16:43.247805Z"
    }
   },
   "outputs": [],
   "source": [
    "sessions = sessions[sessions['is_developer'] != True]\n",
    "sessions = sessions[sessions['is_session'] == True]\n",
    "sessions.drop(['is_session', 'is_developer'], axis = 1, inplace = True)"
   ]
  },
  {
   "cell_type": "code",
   "execution_count": 21,
   "metadata": {
    "ExecuteTime": {
     "end_time": "2019-02-17T05:16:44.351479Z",
     "start_time": "2019-02-17T05:16:44.329867Z"
    }
   },
   "outputs": [
    {
     "data": {
      "text/html": [
       "<div>\n",
       "<style scoped>\n",
       "    .dataframe tbody tr th:only-of-type {\n",
       "        vertical-align: middle;\n",
       "    }\n",
       "\n",
       "    .dataframe tbody tr th {\n",
       "        vertical-align: top;\n",
       "    }\n",
       "\n",
       "    .dataframe thead th {\n",
       "        text-align: right;\n",
       "    }\n",
       "</style>\n",
       "<table border=\"1\" class=\"dataframe\">\n",
       "  <thead>\n",
       "    <tr style=\"text-align: right;\">\n",
       "      <th></th>\n",
       "      <th>session_id</th>\n",
       "      <th>start_timestamp</th>\n",
       "      <th>timezone</th>\n",
       "      <th>timezone_offset</th>\n",
       "      <th>previous_sessions_duration</th>\n",
       "      <th>user_created_timestamp</th>\n",
       "      <th>is_user_first_session</th>\n",
       "      <th>country</th>\n",
       "      <th>region</th>\n",
       "      <th>city</th>\n",
       "      <th>locale</th>\n",
       "      <th>os_name</th>\n",
       "      <th>session_index</th>\n",
       "      <th>device_id</th>\n",
       "    </tr>\n",
       "  </thead>\n",
       "  <tbody>\n",
       "    <tr>\n",
       "      <th>0</th>\n",
       "      <td>5558845121177764917</td>\n",
       "      <td>1542215364580</td>\n",
       "      <td>Asia/Manila</td>\n",
       "      <td>28800000.0</td>\n",
       "      <td>25837591</td>\n",
       "      <td>1538874289458</td>\n",
       "      <td>False</td>\n",
       "      <td>PH</td>\n",
       "      <td>00</td>\n",
       "      <td>makati</td>\n",
       "      <td>en_GB</td>\n",
       "      <td>Android OS</td>\n",
       "      <td>30</td>\n",
       "      <td>546a3d98-d540-4e72-ad82-9ebd64e0839b</td>\n",
       "    </tr>\n",
       "    <tr>\n",
       "      <th>1</th>\n",
       "      <td>2201961907282901522</td>\n",
       "      <td>1543712977293</td>\n",
       "      <td>Asia/Manila</td>\n",
       "      <td>28800000.0</td>\n",
       "      <td>35050130</td>\n",
       "      <td>1538874289458</td>\n",
       "      <td>False</td>\n",
       "      <td>PH</td>\n",
       "      <td>00</td>\n",
       "      <td>quezon city</td>\n",
       "      <td>en_GB</td>\n",
       "      <td>Android OS</td>\n",
       "      <td>47</td>\n",
       "      <td>546a3d98-d540-4e72-ad82-9ebd64e0839b</td>\n",
       "    </tr>\n",
       "    <tr>\n",
       "      <th>2</th>\n",
       "      <td>18781111175537580</td>\n",
       "      <td>1539215568666</td>\n",
       "      <td>Asia/Manila</td>\n",
       "      <td>28800000.0</td>\n",
       "      <td>11343848</td>\n",
       "      <td>1538874289458</td>\n",
       "      <td>False</td>\n",
       "      <td>PH</td>\n",
       "      <td>00</td>\n",
       "      <td>makati</td>\n",
       "      <td>en_GB</td>\n",
       "      <td>Android OS</td>\n",
       "      <td>10</td>\n",
       "      <td>546a3d98-d540-4e72-ad82-9ebd64e0839b</td>\n",
       "    </tr>\n",
       "    <tr>\n",
       "      <th>3</th>\n",
       "      <td>1477540082628742048</td>\n",
       "      <td>1540120743010</td>\n",
       "      <td>Asia/Manila</td>\n",
       "      <td>28800000.0</td>\n",
       "      <td>13499724</td>\n",
       "      <td>1538874289458</td>\n",
       "      <td>False</td>\n",
       "      <td>PH</td>\n",
       "      <td>11</td>\n",
       "      <td>davao city</td>\n",
       "      <td>en_GB</td>\n",
       "      <td>Android OS</td>\n",
       "      <td>13</td>\n",
       "      <td>546a3d98-d540-4e72-ad82-9ebd64e0839b</td>\n",
       "    </tr>\n",
       "    <tr>\n",
       "      <th>4</th>\n",
       "      <td>8184875317380844086</td>\n",
       "      <td>1542671625528</td>\n",
       "      <td>Asia/Manila</td>\n",
       "      <td>28800000.0</td>\n",
       "      <td>32788010</td>\n",
       "      <td>1538874289458</td>\n",
       "      <td>False</td>\n",
       "      <td>PH</td>\n",
       "      <td>00</td>\n",
       "      <td>makati</td>\n",
       "      <td>en_GB</td>\n",
       "      <td>Android OS</td>\n",
       "      <td>41</td>\n",
       "      <td>546a3d98-d540-4e72-ad82-9ebd64e0839b</td>\n",
       "    </tr>\n",
       "  </tbody>\n",
       "</table>\n",
       "</div>"
      ],
      "text/plain": [
       "            session_id  start_timestamp     timezone  timezone_offset  \\\n",
       "0  5558845121177764917    1542215364580  Asia/Manila       28800000.0   \n",
       "1  2201961907282901522    1543712977293  Asia/Manila       28800000.0   \n",
       "2    18781111175537580    1539215568666  Asia/Manila       28800000.0   \n",
       "3  1477540082628742048    1540120743010  Asia/Manila       28800000.0   \n",
       "4  8184875317380844086    1542671625528  Asia/Manila       28800000.0   \n",
       "\n",
       "   previous_sessions_duration  user_created_timestamp  is_user_first_session  \\\n",
       "0                    25837591           1538874289458                  False   \n",
       "1                    35050130           1538874289458                  False   \n",
       "2                    11343848           1538874289458                  False   \n",
       "3                    13499724           1538874289458                  False   \n",
       "4                    32788010           1538874289458                  False   \n",
       "\n",
       "  country region         city locale     os_name  session_index  \\\n",
       "0      PH     00       makati  en_GB  Android OS             30   \n",
       "1      PH     00  quezon city  en_GB  Android OS             47   \n",
       "2      PH     00       makati  en_GB  Android OS             10   \n",
       "3      PH     11   davao city  en_GB  Android OS             13   \n",
       "4      PH     00       makati  en_GB  Android OS             41   \n",
       "\n",
       "                              device_id  \n",
       "0  546a3d98-d540-4e72-ad82-9ebd64e0839b  \n",
       "1  546a3d98-d540-4e72-ad82-9ebd64e0839b  \n",
       "2  546a3d98-d540-4e72-ad82-9ebd64e0839b  \n",
       "3  546a3d98-d540-4e72-ad82-9ebd64e0839b  \n",
       "4  546a3d98-d540-4e72-ad82-9ebd64e0839b  "
      ]
     },
     "execution_count": 21,
     "metadata": {},
     "output_type": "execute_result"
    }
   ],
   "source": [
    "sessions.head()"
   ]
  },
  {
   "cell_type": "code",
   "execution_count": 22,
   "metadata": {
    "ExecuteTime": {
     "end_time": "2019-02-17T05:16:47.557985Z",
     "start_time": "2019-02-17T05:16:44.353601Z"
    }
   },
   "outputs": [
    {
     "name": "stdout",
     "output_type": "stream",
     "text": [
      "session_id 5165730\n",
      "start_timestamp 5163281\n",
      "timezone 454\n",
      "timezone_offset 40\n",
      "previous_sessions_duration 4137765\n",
      "user_created_timestamp 619750\n",
      "is_user_first_session 2\n",
      "country 228\n",
      "region 755\n",
      "city 31540\n",
      "locale 1760\n",
      "os_name 3\n",
      "session_index 1404\n",
      "device_id 612318\n"
     ]
    }
   ],
   "source": [
    "for i in sessions.columns:\n",
    "    print(i, sessions[i].nunique())"
   ]
  },
  {
   "cell_type": "code",
   "execution_count": 19,
   "metadata": {
    "ExecuteTime": {
     "end_time": "2019-02-17T04:58:27.399364Z",
     "start_time": "2019-02-17T04:58:15.700248Z"
    }
   },
   "outputs": [
    {
     "data": {
      "text/plain": [
       "<matplotlib.axes._subplots.AxesSubplot at 0x7fd9db916748>"
      ]
     },
     "execution_count": 19,
     "metadata": {},
     "output_type": "execute_result"
    },
    {
     "data": {
      "image/png": "[encoded data removed]",
      "text/plain": [
       "<matplotlib.figure.Figure at 0x7fd9e74e0780>"
      ]
     },
     "metadata": {},
     "output_type": "display_data"
    }
   ],
   "source": [
    "sns.heatmap(session.corr(), \n",
    "        xticklabels=session.corr().columns,\n",
    "        yticklabels=session.corr().columns,\n",
    "           cmap=\"Blues\",\n",
    "           fmt='d')"
   ]
  },
  {
   "cell_type": "code",
   "execution_count": null,
   "metadata": {
    "ExecuteTime": {
     "start_time": "2019-02-17T05:02:06.793Z"
    }
   },
   "outputs": [],
   "source": [
    "events = pd.merge(events, session, on='session_id', how='outer')"
   ]
  },
  {
   "cell_type": "code",
   "execution_count": 23,
   "metadata": {
    "ExecuteTime": {
     "end_time": "2019-02-17T05:17:00.347026Z",
     "start_time": "2019-02-17T05:17:00.326954Z"
    }
   },
   "outputs": [
    {
     "name": "stdout",
     "output_type": "stream",
     "text": [
      "<class 'pandas.core.frame.DataFrame'>\n",
      "Int64Index: 5165760 entries, 0 to 6239835\n",
      "Data columns (total 14 columns):\n",
      "session_id                    int64\n",
      "start_timestamp               int64\n",
      "timezone                      object\n",
      "timezone_offset               float64\n",
      "previous_sessions_duration    int64\n",
      "user_created_timestamp        int64\n",
      "is_user_first_session         bool\n",
      "country                       object\n",
      "region                        object\n",
      "city                          object\n",
      "locale                        object\n",
      "os_name                       object\n",
      "session_index                 int64\n",
      "device_id                     object\n",
      "dtypes: bool(1), float64(1), int64(5), object(7)\n",
      "memory usage: 556.7+ MB\n"
     ]
    }
   ],
   "source": [
    "sessions.info()"
   ]
  },
  {
   "cell_type": "code",
   "execution_count": 24,
   "metadata": {
    "ExecuteTime": {
     "end_time": "2019-02-17T05:18:08.616658Z",
     "start_time": "2019-02-17T05:17:23.941135Z"
    }
   },
   "outputs": [],
   "source": [
    "sessions.to_csv('session_updates')"
   ]
  },
  {
   "cell_type": "code",
   "execution_count": 3,
   "metadata": {
    "ExecuteTime": {
     "end_time": "2019-02-17T05:19:57.516695Z",
     "start_time": "2019-02-17T05:19:43.265671Z"
    }
   },
   "outputs": [],
   "source": [
    "sessions = pd.read_csv('session_updates')"
   ]
  },
  {
   "cell_type": "code",
   "execution_count": 5,
   "metadata": {
    "ExecuteTime": {
     "end_time": "2019-02-17T05:22:56.029771Z",
     "start_time": "2019-02-17T05:22:56.026387Z"
    }
   },
   "outputs": [],
   "source": [
    "# events = pd.merge(events, sessions, on='session_id', how='outer')"
   ]
  },
  {
   "cell_type": "code",
   "execution_count": 7,
   "metadata": {
    "ExecuteTime": {
     "end_time": "2019-02-17T05:24:19.831965Z",
     "start_time": "2019-02-17T05:24:19.423033Z"
    }
   },
   "outputs": [],
   "source": [
    "sessions.drop('start_timestamp', axis = 1, inplace = True)"
   ]
  },
  {
   "cell_type": "code",
   "execution_count": 10,
   "metadata": {
    "ExecuteTime": {
     "end_time": "2019-02-17T05:24:49.288367Z",
     "start_time": "2019-02-17T05:24:48.905299Z"
    }
   },
   "outputs": [
    {
     "name": "stdout",
     "output_type": "stream",
     "text": [
      "<class 'pandas.core.frame.DataFrame'>\n",
      "RangeIndex: 5165760 entries, 0 to 5165759\n",
      "Data columns (total 13 columns):\n",
      "session_id                    int64\n",
      "timezone                      object\n",
      "timezone_offset               float64\n",
      "previous_sessions_duration    int64\n",
      "user_created_timestamp        int64\n",
      "is_user_first_session         bool\n",
      "country                       object\n",
      "region                        object\n",
      "city                          object\n",
      "locale                        object\n",
      "os_name                       object\n",
      "session_index                 int64\n",
      "device_id                     object\n",
      "dtypes: bool(1), float64(1), int64(4), object(7)\n",
      "memory usage: 477.9+ MB\n"
     ]
    }
   ],
   "source": [
    "sessions.drop('Unnamed: 0', axis = 1, inplace = True)\n",
    "sessions.info()"
   ]
  },
  {
   "cell_type": "code",
   "execution_count": 11,
   "metadata": {
    "ExecuteTime": {
     "end_time": "2019-02-17T05:29:29.402469Z",
     "start_time": "2019-02-17T05:29:29.382193Z"
    }
   },
   "outputs": [
    {
     "name": "stdout",
     "output_type": "stream",
     "text": [
      "<class 'pandas.core.frame.DataFrame'>\n",
      "RangeIndex: 111946597 entries, 0 to 111946596\n",
      "Data columns (total 5 columns):\n",
      "session_id         int64\n",
      "event              object\n",
      "event_timestamp    int8\n",
      "event_value        float32\n",
      "weekofday          int8\n",
      "dtypes: float32(1), int64(1), int8(2), object(1)\n",
      "memory usage: 2.3+ GB\n"
     ]
    }
   ],
   "source": [
    "events.info()"
   ]
  },
  {
   "cell_type": "code",
   "execution_count": 13,
   "metadata": {
    "ExecuteTime": {
     "end_time": "2019-02-17T05:34:18.400982Z",
     "start_time": "2019-02-17T05:34:17.085078Z"
    }
   },
   "outputs": [
    {
     "data": {
      "text/plain": [
       "Text(0.5,1,'count of os_name')"
      ]
     },
     "execution_count": 13,
     "metadata": {},
     "output_type": "execute_result"
    },
    {
     "data": {
      "image/png": "[encoded data removed]",
      "text/plain": [
       "<matplotlib.figure.Figure at 0x7f80a321bf28>"
      ]
     },
     "metadata": {},
     "output_type": "display_data"
    }
   ],
   "source": [
    "# count on os_name\n",
    "\n",
    "plt.bar(sessions['os_name'].value_counts().reset_index()['index'], \n",
    "        sessions['os_name'].value_counts().reset_index()['os_name'])\n",
    "plt.xlabel('os_name')\n",
    "plt.ylabel('count')\n",
    "plt.title('count of os_name')"
   ]
  },
  {
   "cell_type": "code",
   "execution_count": 14,
   "metadata": {
    "ExecuteTime": {
     "end_time": "2019-02-17T05:34:59.229069Z",
     "start_time": "2019-02-17T05:34:58.979693Z"
    }
   },
   "outputs": [
    {
     "data": {
      "text/plain": [
       "Text(0.5,1,'count of is_user_first_session')"
      ]
     },
     "execution_count": 14,
     "metadata": {},
     "output_type": "execute_result"
    },
    {
     "data": {
      "image/png": "[encoded data removed]",
      "text/plain": [
       "<matplotlib.figure.Figure at 0x7f80a40d3d68>"
      ]
     },
     "metadata": {},
     "output_type": "display_data"
    }
   ],
   "source": [
    "# count on is_user_first_session\n",
    "\n",
    "plt.bar(sessions['is_user_first_session'].value_counts().reset_index()['index'], \n",
    "        sessions['is_user_first_session'].value_counts().reset_index()['is_user_first_session'])\n",
    "plt.xlabel('is_user_first_session')\n",
    "plt.ylabel('count')\n",
    "plt.title('count of is_user_first_session')"
   ]
  },
  {
   "cell_type": "code",
   "execution_count": 34,
   "metadata": {
    "ExecuteTime": {
     "end_time": "2019-02-17T05:42:43.603310Z",
     "start_time": "2019-02-17T05:42:42.750365Z"
    }
   },
   "outputs": [
    {
     "data": {
      "text/plain": [
       "Text(0.5,1,'count of activity by country')"
      ]
     },
     "execution_count": 34,
     "metadata": {},
     "output_type": "execute_result"
    },
    {
     "data": {
      "image/png": "[encoded data removed]",
      "text/plain": [
       "<matplotlib.figure.Figure at 0x7f80a44e9e10>"
      ]
     },
     "metadata": {},
     "output_type": "display_data"
    }
   ],
   "source": [
    "# count on is_user_first_session\n",
    "country = sessions['country'].value_counts().reset_index().sort_values('country', ascending = False).head(20)\n",
    "plt.figure(figsize=(10, 7))\n",
    "plt.bar(country['index'], \n",
    "        country['country'])\n",
    "plt.xlabel('country')\n",
    "plt.ylabel('count')\n",
    "plt.title('count of activity by country')"
   ]
  },
  {
   "cell_type": "code",
   "execution_count": 32,
   "metadata": {
    "ExecuteTime": {
     "end_time": "2019-02-17T05:42:09.618858Z",
     "start_time": "2019-02-17T05:42:09.025498Z"
    }
   },
   "outputs": [
    {
     "data": {
      "text/html": [
       "<div>\n",
       "<style scoped>\n",
       "    .dataframe tbody tr th:only-of-type {\n",
       "        vertical-align: middle;\n",
       "    }\n",
       "\n",
       "    .dataframe tbody tr th {\n",
       "        vertical-align: top;\n",
       "    }\n",
       "\n",
       "    .dataframe thead th {\n",
       "        text-align: right;\n",
       "    }\n",
       "</style>\n",
       "<table border=\"1\" class=\"dataframe\">\n",
       "  <thead>\n",
       "    <tr style=\"text-align: right;\">\n",
       "      <th></th>\n",
       "      <th>index</th>\n",
       "      <th>country</th>\n",
       "    </tr>\n",
       "  </thead>\n",
       "  <tbody>\n",
       "    <tr>\n",
       "      <th>0</th>\n",
       "      <td>US</td>\n",
       "      <td>2382588</td>\n",
       "    </tr>\n",
       "    <tr>\n",
       "      <th>1</th>\n",
       "      <td>IN</td>\n",
       "      <td>401404</td>\n",
       "    </tr>\n",
       "    <tr>\n",
       "      <th>2</th>\n",
       "      <td>GB</td>\n",
       "      <td>373924</td>\n",
       "    </tr>\n",
       "    <tr>\n",
       "      <th>3</th>\n",
       "      <td>PH</td>\n",
       "      <td>207779</td>\n",
       "    </tr>\n",
       "    <tr>\n",
       "      <th>4</th>\n",
       "      <td>CA</td>\n",
       "      <td>158324</td>\n",
       "    </tr>\n",
       "    <tr>\n",
       "      <th>5</th>\n",
       "      <td>ZA</td>\n",
       "      <td>127091</td>\n",
       "    </tr>\n",
       "    <tr>\n",
       "      <th>6</th>\n",
       "      <td>AU</td>\n",
       "      <td>125672</td>\n",
       "    </tr>\n",
       "    <tr>\n",
       "      <th>7</th>\n",
       "      <td>ID</td>\n",
       "      <td>86715</td>\n",
       "    </tr>\n",
       "    <tr>\n",
       "      <th>8</th>\n",
       "      <td>MY</td>\n",
       "      <td>72076</td>\n",
       "    </tr>\n",
       "    <tr>\n",
       "      <th>9</th>\n",
       "      <td>DE</td>\n",
       "      <td>59438</td>\n",
       "    </tr>\n",
       "    <tr>\n",
       "      <th>10</th>\n",
       "      <td>BR</td>\n",
       "      <td>57427</td>\n",
       "    </tr>\n",
       "    <tr>\n",
       "      <th>11</th>\n",
       "      <td>NL</td>\n",
       "      <td>44052</td>\n",
       "    </tr>\n",
       "    <tr>\n",
       "      <th>12</th>\n",
       "      <td>NG</td>\n",
       "      <td>42716</td>\n",
       "    </tr>\n",
       "    <tr>\n",
       "      <th>13</th>\n",
       "      <td>PL</td>\n",
       "      <td>34765</td>\n",
       "    </tr>\n",
       "    <tr>\n",
       "      <th>14</th>\n",
       "      <td>PK</td>\n",
       "      <td>34320</td>\n",
       "    </tr>\n",
       "    <tr>\n",
       "      <th>15</th>\n",
       "      <td>SG</td>\n",
       "      <td>31622</td>\n",
       "    </tr>\n",
       "    <tr>\n",
       "      <th>16</th>\n",
       "      <td>NZ</td>\n",
       "      <td>30175</td>\n",
       "    </tr>\n",
       "    <tr>\n",
       "      <th>17</th>\n",
       "      <td>SE</td>\n",
       "      <td>28307</td>\n",
       "    </tr>\n",
       "    <tr>\n",
       "      <th>18</th>\n",
       "      <td>EG</td>\n",
       "      <td>27877</td>\n",
       "    </tr>\n",
       "    <tr>\n",
       "      <th>19</th>\n",
       "      <td>RO</td>\n",
       "      <td>27684</td>\n",
       "    </tr>\n",
       "    <tr>\n",
       "      <th>20</th>\n",
       "      <td>BD</td>\n",
       "      <td>25955</td>\n",
       "    </tr>\n",
       "    <tr>\n",
       "      <th>21</th>\n",
       "      <td>MX</td>\n",
       "      <td>25520</td>\n",
       "    </tr>\n",
       "    <tr>\n",
       "      <th>22</th>\n",
       "      <td>GR</td>\n",
       "      <td>22775</td>\n",
       "    </tr>\n",
       "    <tr>\n",
       "      <th>23</th>\n",
       "      <td>JM</td>\n",
       "      <td>22672</td>\n",
       "    </tr>\n",
       "    <tr>\n",
       "      <th>24</th>\n",
       "      <td>KE</td>\n",
       "      <td>22620</td>\n",
       "    </tr>\n",
       "    <tr>\n",
       "      <th>25</th>\n",
       "      <td>FR</td>\n",
       "      <td>22483</td>\n",
       "    </tr>\n",
       "    <tr>\n",
       "      <th>26</th>\n",
       "      <td>IE</td>\n",
       "      <td>20812</td>\n",
       "    </tr>\n",
       "    <tr>\n",
       "      <th>27</th>\n",
       "      <td>PT</td>\n",
       "      <td>19849</td>\n",
       "    </tr>\n",
       "    <tr>\n",
       "      <th>28</th>\n",
       "      <td>ES</td>\n",
       "      <td>19396</td>\n",
       "    </tr>\n",
       "    <tr>\n",
       "      <th>29</th>\n",
       "      <td>GH</td>\n",
       "      <td>19270</td>\n",
       "    </tr>\n",
       "    <tr>\n",
       "      <th>...</th>\n",
       "      <td>...</td>\n",
       "      <td>...</td>\n",
       "    </tr>\n",
       "    <tr>\n",
       "      <th>198</th>\n",
       "      <td>BF</td>\n",
       "      <td>29</td>\n",
       "    </tr>\n",
       "    <tr>\n",
       "      <th>199</th>\n",
       "      <td>NC</td>\n",
       "      <td>29</td>\n",
       "    </tr>\n",
       "    <tr>\n",
       "      <th>200</th>\n",
       "      <td>GL</td>\n",
       "      <td>26</td>\n",
       "    </tr>\n",
       "    <tr>\n",
       "      <th>201</th>\n",
       "      <td>AI</td>\n",
       "      <td>23</td>\n",
       "    </tr>\n",
       "    <tr>\n",
       "      <th>202</th>\n",
       "      <td>LI</td>\n",
       "      <td>21</td>\n",
       "    </tr>\n",
       "    <tr>\n",
       "      <th>203</th>\n",
       "      <td>CG</td>\n",
       "      <td>19</td>\n",
       "    </tr>\n",
       "    <tr>\n",
       "      <th>204</th>\n",
       "      <td>NE</td>\n",
       "      <td>16</td>\n",
       "    </tr>\n",
       "    <tr>\n",
       "      <th>205</th>\n",
       "      <td>KI</td>\n",
       "      <td>12</td>\n",
       "    </tr>\n",
       "    <tr>\n",
       "      <th>206</th>\n",
       "      <td>FM</td>\n",
       "      <td>11</td>\n",
       "    </tr>\n",
       "    <tr>\n",
       "      <th>207</th>\n",
       "      <td>TJ</td>\n",
       "      <td>11</td>\n",
       "    </tr>\n",
       "    <tr>\n",
       "      <th>208</th>\n",
       "      <td>WS</td>\n",
       "      <td>11</td>\n",
       "    </tr>\n",
       "    <tr>\n",
       "      <th>209</th>\n",
       "      <td>SS</td>\n",
       "      <td>11</td>\n",
       "    </tr>\n",
       "    <tr>\n",
       "      <th>210</th>\n",
       "      <td>DJ</td>\n",
       "      <td>11</td>\n",
       "    </tr>\n",
       "    <tr>\n",
       "      <th>211</th>\n",
       "      <td>BL</td>\n",
       "      <td>9</td>\n",
       "    </tr>\n",
       "    <tr>\n",
       "      <th>212</th>\n",
       "      <td>LS</td>\n",
       "      <td>9</td>\n",
       "    </tr>\n",
       "    <tr>\n",
       "      <th>214</th>\n",
       "      <td>MC</td>\n",
       "      <td>8</td>\n",
       "    </tr>\n",
       "    <tr>\n",
       "      <th>213</th>\n",
       "      <td>CK</td>\n",
       "      <td>8</td>\n",
       "    </tr>\n",
       "    <tr>\n",
       "      <th>215</th>\n",
       "      <td>EH</td>\n",
       "      <td>6</td>\n",
       "    </tr>\n",
       "    <tr>\n",
       "      <th>216</th>\n",
       "      <td>GQ</td>\n",
       "      <td>6</td>\n",
       "    </tr>\n",
       "    <tr>\n",
       "      <th>217</th>\n",
       "      <td>AX</td>\n",
       "      <td>4</td>\n",
       "    </tr>\n",
       "    <tr>\n",
       "      <th>218</th>\n",
       "      <td>YT</td>\n",
       "      <td>4</td>\n",
       "    </tr>\n",
       "    <tr>\n",
       "      <th>219</th>\n",
       "      <td>VU</td>\n",
       "      <td>4</td>\n",
       "    </tr>\n",
       "    <tr>\n",
       "      <th>220</th>\n",
       "      <td>SB</td>\n",
       "      <td>3</td>\n",
       "    </tr>\n",
       "    <tr>\n",
       "      <th>221</th>\n",
       "      <td>FK</td>\n",
       "      <td>3</td>\n",
       "    </tr>\n",
       "    <tr>\n",
       "      <th>222</th>\n",
       "      <td>NU</td>\n",
       "      <td>2</td>\n",
       "    </tr>\n",
       "    <tr>\n",
       "      <th>223</th>\n",
       "      <td>PM</td>\n",
       "      <td>2</td>\n",
       "    </tr>\n",
       "    <tr>\n",
       "      <th>224</th>\n",
       "      <td>ST</td>\n",
       "      <td>1</td>\n",
       "    </tr>\n",
       "    <tr>\n",
       "      <th>225</th>\n",
       "      <td>SJ</td>\n",
       "      <td>1</td>\n",
       "    </tr>\n",
       "    <tr>\n",
       "      <th>226</th>\n",
       "      <td>CU</td>\n",
       "      <td>1</td>\n",
       "    </tr>\n",
       "    <tr>\n",
       "      <th>227</th>\n",
       "      <td>NF</td>\n",
       "      <td>1</td>\n",
       "    </tr>\n",
       "  </tbody>\n",
       "</table>\n",
       "<p>228 rows × 2 columns</p>\n",
       "</div>"
      ],
      "text/plain": [
       "    index  country\n",
       "0      US  2382588\n",
       "1      IN   401404\n",
       "2      GB   373924\n",
       "3      PH   207779\n",
       "4      CA   158324\n",
       "5      ZA   127091\n",
       "6      AU   125672\n",
       "7      ID    86715\n",
       "8      MY    72076\n",
       "9      DE    59438\n",
       "10     BR    57427\n",
       "11     NL    44052\n",
       "12     NG    42716\n",
       "13     PL    34765\n",
       "14     PK    34320\n",
       "15     SG    31622\n",
       "16     NZ    30175\n",
       "17     SE    28307\n",
       "18     EG    27877\n",
       "19     RO    27684\n",
       "20     BD    25955\n",
       "21     MX    25520\n",
       "22     GR    22775\n",
       "23     JM    22672\n",
       "24     KE    22620\n",
       "25     FR    22483\n",
       "26     IE    20812\n",
       "27     PT    19849\n",
       "28     ES    19396\n",
       "29     GH    19270\n",
       "..    ...      ...\n",
       "198    BF       29\n",
       "199    NC       29\n",
       "200    GL       26\n",
       "201    AI       23\n",
       "202    LI       21\n",
       "203    CG       19\n",
       "204    NE       16\n",
       "205    KI       12\n",
       "206    FM       11\n",
       "207    TJ       11\n",
       "208    WS       11\n",
       "209    SS       11\n",
       "210    DJ       11\n",
       "211    BL        9\n",
       "212    LS        9\n",
       "214    MC        8\n",
       "213    CK        8\n",
       "215    EH        6\n",
       "216    GQ        6\n",
       "217    AX        4\n",
       "218    YT        4\n",
       "219    VU        4\n",
       "220    SB        3\n",
       "221    FK        3\n",
       "222    NU        2\n",
       "223    PM        2\n",
       "224    ST        1\n",
       "225    SJ        1\n",
       "226    CU        1\n",
       "227    NF        1\n",
       "\n",
       "[228 rows x 2 columns]"
      ]
     },
     "execution_count": 32,
     "metadata": {},
     "output_type": "execute_result"
    }
   ],
   "source": [
    "sessions['country'].value_counts().reset_index().sort_values('country', ascending = False)"
   ]
  },
  {
   "cell_type": "code",
   "execution_count": 37,
   "metadata": {
    "ExecuteTime": {
     "end_time": "2019-02-17T05:46:10.659746Z",
     "start_time": "2019-02-17T05:46:09.659928Z"
    }
   },
   "outputs": [
    {
     "data": {
      "text/plain": [
       "Text(0.5,1,'count of activity by city')"
      ]
     },
     "execution_count": 37,
     "metadata": {},
     "output_type": "execute_result"
    },
    {
     "data": {
      "image/png": "[encoded data removed]",
      "text/plain": [
       "<matplotlib.figure.Figure at 0x7f809d203b38>"
      ]
     },
     "metadata": {},
     "output_type": "display_data"
    }
   ],
   "source": [
    "# count on city\n",
    "country = sessions['city'].value_counts().reset_index().sort_values('city', ascending = False).head(20)\n",
    "plt.figure(figsize=(10, 7))\n",
    "plt.bar(country['index'], \n",
    "        country['city'])\n",
    "plt.xlabel('city')\n",
    "plt.ylabel('count')\n",
    "plt.xticks(rotation = 'vertical')\n",
    "plt.title('count of activity by city')"
   ]
  },
  {
   "cell_type": "code",
   "execution_count": 38,
   "metadata": {
    "ExecuteTime": {
     "end_time": "2019-02-17T05:47:46.080944Z",
     "start_time": "2019-02-17T05:47:45.142178Z"
    }
   },
   "outputs": [
    {
     "data": {
      "text/plain": [
       "Text(0.5,1,'count of activity by region')"
      ]
     },
     "execution_count": 38,
     "metadata": {},
     "output_type": "execute_result"
    },
    {
     "data": {
      "image/png": "[encoded data removed]",
      "text/plain": [
       "<matplotlib.figure.Figure at 0x7f809d08ed30>"
      ]
     },
     "metadata": {},
     "output_type": "display_data"
    }
   ],
   "source": [
    "# count on region\n",
    "country = sessions['region'].value_counts().reset_index().sort_values('region', ascending = False).head(20)\n",
    "plt.figure(figsize=(10, 7))\n",
    "plt.bar(country['index'], \n",
    "        country['region'])\n",
    "plt.xlabel('region')\n",
    "plt.ylabel('count')\n",
    "plt.xticks(rotation = 'vertical')\n",
    "plt.title('count of activity by region')"
   ]
  },
  {
   "cell_type": "code",
   "execution_count": 60,
   "metadata": {
    "ExecuteTime": {
     "end_time": "2019-02-17T06:11:44.452494Z",
     "start_time": "2019-02-17T06:11:41.500946Z"
    }
   },
   "outputs": [
    {
     "data": {
      "image/png": "[encoded data removed]",
      "text/plain": [
       "<matplotlib.figure.Figure at 0x7f80a41942e8>"
      ]
     },
     "metadata": {},
     "output_type": "display_data"
    }
   ],
   "source": [
    "plt.figure(figsize = (10, 10))\n",
    "plt.hist(sessions['previous_sessions_duration'], bins = 1000)\n",
    "plt.xlim(0,  600000000)\n",
    "plt.ylim(0, 500000)\n",
    "plt.xlabel('previous session duration')\n",
    "plt.title('Histogram of previous session duration')\n",
    "plt.show()"
   ]
  },
  {
   "cell_type": "code",
   "execution_count": 40,
   "metadata": {
    "ExecuteTime": {
     "end_time": "2019-02-17T05:49:42.878408Z",
     "start_time": "2019-02-17T05:49:42.856591Z"
    }
   },
   "outputs": [
    {
     "data": {
      "text/html": [
       "<div>\n",
       "<style scoped>\n",
       "    .dataframe tbody tr th:only-of-type {\n",
       "        vertical-align: middle;\n",
       "    }\n",
       "\n",
       "    .dataframe tbody tr th {\n",
       "        vertical-align: top;\n",
       "    }\n",
       "\n",
       "    .dataframe thead th {\n",
       "        text-align: right;\n",
       "    }\n",
       "</style>\n",
       "<table border=\"1\" class=\"dataframe\">\n",
       "  <thead>\n",
       "    <tr style=\"text-align: right;\">\n",
       "      <th></th>\n",
       "      <th>index</th>\n",
       "      <th>session_id</th>\n",
       "    </tr>\n",
       "  </thead>\n",
       "  <tbody>\n",
       "    <tr>\n",
       "      <th>0</th>\n",
       "      <td>7208061843659492523</td>\n",
       "      <td>2</td>\n",
       "    </tr>\n",
       "    <tr>\n",
       "      <th>16</th>\n",
       "      <td>8572234697293544146</td>\n",
       "      <td>2</td>\n",
       "    </tr>\n",
       "    <tr>\n",
       "      <th>1</th>\n",
       "      <td>1473875631441362891</td>\n",
       "      <td>2</td>\n",
       "    </tr>\n",
       "    <tr>\n",
       "      <th>29</th>\n",
       "      <td>2622564282768928608</td>\n",
       "      <td>2</td>\n",
       "    </tr>\n",
       "    <tr>\n",
       "      <th>28</th>\n",
       "      <td>7323745982301710432</td>\n",
       "      <td>2</td>\n",
       "    </tr>\n",
       "    <tr>\n",
       "      <th>27</th>\n",
       "      <td>8323524134761828126</td>\n",
       "      <td>2</td>\n",
       "    </tr>\n",
       "    <tr>\n",
       "      <th>26</th>\n",
       "      <td>8018288981612137545</td>\n",
       "      <td>2</td>\n",
       "    </tr>\n",
       "    <tr>\n",
       "      <th>25</th>\n",
       "      <td>2164818626238472519</td>\n",
       "      <td>2</td>\n",
       "    </tr>\n",
       "    <tr>\n",
       "      <th>23</th>\n",
       "      <td>2834835040365721544</td>\n",
       "      <td>2</td>\n",
       "    </tr>\n",
       "    <tr>\n",
       "      <th>22</th>\n",
       "      <td>7649941570236019552</td>\n",
       "      <td>2</td>\n",
       "    </tr>\n",
       "    <tr>\n",
       "      <th>21</th>\n",
       "      <td>6824893234483786567</td>\n",
       "      <td>2</td>\n",
       "    </tr>\n",
       "    <tr>\n",
       "      <th>20</th>\n",
       "      <td>9150042209153884586</td>\n",
       "      <td>2</td>\n",
       "    </tr>\n",
       "    <tr>\n",
       "      <th>19</th>\n",
       "      <td>8872117823764224776</td>\n",
       "      <td>2</td>\n",
       "    </tr>\n",
       "    <tr>\n",
       "      <th>18</th>\n",
       "      <td>18892030425431364</td>\n",
       "      <td>2</td>\n",
       "    </tr>\n",
       "    <tr>\n",
       "      <th>17</th>\n",
       "      <td>6212947768385218629</td>\n",
       "      <td>2</td>\n",
       "    </tr>\n",
       "    <tr>\n",
       "      <th>24</th>\n",
       "      <td>7530127741196525925</td>\n",
       "      <td>2</td>\n",
       "    </tr>\n",
       "    <tr>\n",
       "      <th>15</th>\n",
       "      <td>8606191506743834791</td>\n",
       "      <td>2</td>\n",
       "    </tr>\n",
       "    <tr>\n",
       "      <th>7</th>\n",
       "      <td>1020453943280986933</td>\n",
       "      <td>2</td>\n",
       "    </tr>\n",
       "    <tr>\n",
       "      <th>2</th>\n",
       "      <td>4901228678374591979</td>\n",
       "      <td>2</td>\n",
       "    </tr>\n",
       "    <tr>\n",
       "      <th>14</th>\n",
       "      <td>7024041737218844527</td>\n",
       "      <td>2</td>\n",
       "    </tr>\n",
       "  </tbody>\n",
       "</table>\n",
       "</div>"
      ],
      "text/plain": [
       "                  index  session_id\n",
       "0   7208061843659492523           2\n",
       "16  8572234697293544146           2\n",
       "1   1473875631441362891           2\n",
       "29  2622564282768928608           2\n",
       "28  7323745982301710432           2\n",
       "27  8323524134761828126           2\n",
       "26  8018288981612137545           2\n",
       "25  2164818626238472519           2\n",
       "23  2834835040365721544           2\n",
       "22  7649941570236019552           2\n",
       "21  6824893234483786567           2\n",
       "20  9150042209153884586           2\n",
       "19  8872117823764224776           2\n",
       "18    18892030425431364           2\n",
       "17  6212947768385218629           2\n",
       "24  7530127741196525925           2\n",
       "15  8606191506743834791           2\n",
       "7   1020453943280986933           2\n",
       "2   4901228678374591979           2\n",
       "14  7024041737218844527           2"
      ]
     },
     "execution_count": 40,
     "metadata": {},
     "output_type": "execute_result"
    }
   ],
   "source": [
    "sessions['session_id'].value_counts().reset_index().sort_values('session_id', ascending = False).head(20)"
   ]
  },
  {
   "cell_type": "code",
   "execution_count": 62,
   "metadata": {
    "ExecuteTime": {
     "end_time": "2019-02-17T06:12:12.034614Z",
     "start_time": "2019-02-17T06:12:11.126923Z"
    }
   },
   "outputs": [
    {
     "data": {
      "text/plain": [
       "Text(0.5,1,'count of activity by timezone')"
      ]
     },
     "execution_count": 62,
     "metadata": {},
     "output_type": "execute_result"
    },
    {
     "data": {
      "image/png": "[encoded data removed]",
      "text/plain": [
       "<matplotlib.figure.Figure at 0x7f80a39ec240>"
      ]
     },
     "metadata": {},
     "output_type": "display_data"
    }
   ],
   "source": [
    "# count on timezone\n",
    "country = sessions['timezone'].value_counts().reset_index().sort_values('timezone', ascending = False).head(20)\n",
    "plt.figure(figsize=(10, 7))\n",
    "plt.bar(country['index'], \n",
    "        country['timezone'])\n",
    "plt.xlabel('timezone')\n",
    "plt.ylabel('count')\n",
    "plt.xticks(rotation = 'vertical')\n",
    "plt.title('count of activity by timezone')"
   ]
  },
  {
   "cell_type": "code",
   "execution_count": null,
   "metadata": {},
   "outputs": [],
   "source": []
  }
 ],
 "metadata": {
  "kernelspec": {
   "display_name": "Python 3",
   "language": "python",
   "name": "python3"
  },
  "language_info": {
   "codemirror_mode": {
    "name": "ipython",
    "version": 3
   },
   "file_extension": ".py",
   "mimetype": "text/x-python",
   "name": "python",
   "nbconvert_exporter": "python",
   "pygments_lexer": "ipython3",
   "version": "3.6.5"
  }
 },
 "nbformat": 4,
 "nbformat_minor": 2
}
